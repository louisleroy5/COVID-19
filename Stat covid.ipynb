{
 "cells": [
  {
   "cell_type": "code",
   "execution_count": 1,
   "metadata": {},
   "outputs": [],
   "source": [
    "import os\n",
    "import pandas as pd\n",
    "import matplotlib.pyplot as plt\n",
    "\n",
    "graph_colors = plt.cm.get_cmap(\"tab10\").colors"
   ]
  },
  {
   "cell_type": "code",
   "execution_count": 2,
   "metadata": {},
   "outputs": [],
   "source": [
    "def ratio_day(serie):\n",
    "    l = [None]\n",
    "    for i in range(1, len(serie)):\n",
    "        l.append(round((serie[i] / serie[i - 1]), 3))\n",
    "\n",
    "    return l"
   ]
  },
  {
   "cell_type": "code",
   "execution_count": 3,
   "metadata": {},
   "outputs": [],
   "source": [
    "def substract(serie):\n",
    "    l = [None]\n",
    "    for i in range(1, len(serie)):\n",
    "        l.append(round((serie[i] - serie[i - 1]), 3))\n",
    "\n",
    "    return l"
   ]
  },
  {
   "cell_type": "code",
   "execution_count": 4,
   "metadata": {},
   "outputs": [],
   "source": [
    "markers = [\"o\", \"*\", \"v\", \"s\", \"p\", \"h\"]\n",
    "styles = [\"-\", \"-.\", \"--\", \":\", \"-\", \"-.\"]"
   ]
  },
  {
   "cell_type": "code",
   "execution_count": 5,
   "metadata": {},
   "outputs": [],
   "source": [
    "path_data = os.path.join(\"csse_covid_19_data\", \"csse_covid_19_time_series\")\n",
    "file_data = \"time_series_covid19_confirmed_global.csv\""
   ]
  },
  {
   "cell_type": "code",
   "execution_count": 6,
   "metadata": {},
   "outputs": [
    {
     "data": {
      "text/html": [
       "<div>\n",
       "<style scoped>\n",
       "    .dataframe tbody tr th:only-of-type {\n",
       "        vertical-align: middle;\n",
       "    }\n",
       "\n",
       "    .dataframe tbody tr th {\n",
       "        vertical-align: top;\n",
       "    }\n",
       "\n",
       "    .dataframe thead tr th {\n",
       "        text-align: left;\n",
       "    }\n",
       "</style>\n",
       "<table border=\"1\" class=\"dataframe\">\n",
       "  <thead>\n",
       "    <tr>\n",
       "      <th>Country/Region</th>\n",
       "      <th>Afghanistan</th>\n",
       "      <th>Albania</th>\n",
       "      <th>Algeria</th>\n",
       "      <th>Andorra</th>\n",
       "      <th>Angola</th>\n",
       "      <th>Antigua and Barbuda</th>\n",
       "      <th>Argentina</th>\n",
       "      <th>Armenia</th>\n",
       "      <th colspan=\"2\" halign=\"left\">Australia</th>\n",
       "      <th>...</th>\n",
       "      <th colspan=\"2\" halign=\"left\">United Kingdom</th>\n",
       "      <th>Uruguay</th>\n",
       "      <th>Uzbekistan</th>\n",
       "      <th>Venezuela</th>\n",
       "      <th>Vietnam</th>\n",
       "      <th>West Bank and Gaza</th>\n",
       "      <th>Western Sahara</th>\n",
       "      <th>Zambia</th>\n",
       "      <th>Zimbabwe</th>\n",
       "    </tr>\n",
       "    <tr>\n",
       "      <th>Province/State</th>\n",
       "      <th>NaN</th>\n",
       "      <th>NaN</th>\n",
       "      <th>NaN</th>\n",
       "      <th>NaN</th>\n",
       "      <th>NaN</th>\n",
       "      <th>NaN</th>\n",
       "      <th>NaN</th>\n",
       "      <th>NaN</th>\n",
       "      <th>Australian Capital Territory</th>\n",
       "      <th>New South Wales</th>\n",
       "      <th>...</th>\n",
       "      <th>Turks and Caicos Islands</th>\n",
       "      <th>NaN</th>\n",
       "      <th>NaN</th>\n",
       "      <th>NaN</th>\n",
       "      <th>NaN</th>\n",
       "      <th>NaN</th>\n",
       "      <th>NaN</th>\n",
       "      <th>NaN</th>\n",
       "      <th>NaN</th>\n",
       "      <th>NaN</th>\n",
       "    </tr>\n",
       "    <tr>\n",
       "      <th>Lat</th>\n",
       "      <th>33.0000</th>\n",
       "      <th>41.1533</th>\n",
       "      <th>28.0339</th>\n",
       "      <th>42.5063</th>\n",
       "      <th>-11.2027</th>\n",
       "      <th>17.0608</th>\n",
       "      <th>-38.4161</th>\n",
       "      <th>40.0691</th>\n",
       "      <th>-35.4735</th>\n",
       "      <th>-33.8688</th>\n",
       "      <th>...</th>\n",
       "      <th>21.6940</th>\n",
       "      <th>55.3781</th>\n",
       "      <th>-32.5228</th>\n",
       "      <th>41.3775</th>\n",
       "      <th>6.4238</th>\n",
       "      <th>16.0000</th>\n",
       "      <th>31.9522</th>\n",
       "      <th>24.2155</th>\n",
       "      <th>-15.4167</th>\n",
       "      <th>-20.0000</th>\n",
       "    </tr>\n",
       "    <tr>\n",
       "      <th>Long</th>\n",
       "      <th>65.0000</th>\n",
       "      <th>20.1683</th>\n",
       "      <th>1.6596</th>\n",
       "      <th>1.5218</th>\n",
       "      <th>17.8739</th>\n",
       "      <th>-61.7964</th>\n",
       "      <th>-63.6167</th>\n",
       "      <th>45.0382</th>\n",
       "      <th>149.0124</th>\n",
       "      <th>151.2093</th>\n",
       "      <th>...</th>\n",
       "      <th>-71.7979</th>\n",
       "      <th>-3.4360</th>\n",
       "      <th>-55.7658</th>\n",
       "      <th>64.5853</th>\n",
       "      <th>-66.5897</th>\n",
       "      <th>108.0000</th>\n",
       "      <th>35.2332</th>\n",
       "      <th>-12.8858</th>\n",
       "      <th>28.2833</th>\n",
       "      <th>30.0000</th>\n",
       "    </tr>\n",
       "  </thead>\n",
       "  <tbody>\n",
       "    <tr>\n",
       "      <th>2020-01-22</th>\n",
       "      <td>0</td>\n",
       "      <td>0</td>\n",
       "      <td>0</td>\n",
       "      <td>0</td>\n",
       "      <td>0</td>\n",
       "      <td>0</td>\n",
       "      <td>0</td>\n",
       "      <td>0</td>\n",
       "      <td>0</td>\n",
       "      <td>0</td>\n",
       "      <td>...</td>\n",
       "      <td>0</td>\n",
       "      <td>0</td>\n",
       "      <td>0</td>\n",
       "      <td>0</td>\n",
       "      <td>0</td>\n",
       "      <td>0</td>\n",
       "      <td>0</td>\n",
       "      <td>0</td>\n",
       "      <td>0</td>\n",
       "      <td>0</td>\n",
       "    </tr>\n",
       "    <tr>\n",
       "      <th>2020-01-23</th>\n",
       "      <td>0</td>\n",
       "      <td>0</td>\n",
       "      <td>0</td>\n",
       "      <td>0</td>\n",
       "      <td>0</td>\n",
       "      <td>0</td>\n",
       "      <td>0</td>\n",
       "      <td>0</td>\n",
       "      <td>0</td>\n",
       "      <td>0</td>\n",
       "      <td>...</td>\n",
       "      <td>0</td>\n",
       "      <td>0</td>\n",
       "      <td>0</td>\n",
       "      <td>0</td>\n",
       "      <td>0</td>\n",
       "      <td>2</td>\n",
       "      <td>0</td>\n",
       "      <td>0</td>\n",
       "      <td>0</td>\n",
       "      <td>0</td>\n",
       "    </tr>\n",
       "    <tr>\n",
       "      <th>2020-01-24</th>\n",
       "      <td>0</td>\n",
       "      <td>0</td>\n",
       "      <td>0</td>\n",
       "      <td>0</td>\n",
       "      <td>0</td>\n",
       "      <td>0</td>\n",
       "      <td>0</td>\n",
       "      <td>0</td>\n",
       "      <td>0</td>\n",
       "      <td>0</td>\n",
       "      <td>...</td>\n",
       "      <td>0</td>\n",
       "      <td>0</td>\n",
       "      <td>0</td>\n",
       "      <td>0</td>\n",
       "      <td>0</td>\n",
       "      <td>2</td>\n",
       "      <td>0</td>\n",
       "      <td>0</td>\n",
       "      <td>0</td>\n",
       "      <td>0</td>\n",
       "    </tr>\n",
       "    <tr>\n",
       "      <th>2020-01-25</th>\n",
       "      <td>0</td>\n",
       "      <td>0</td>\n",
       "      <td>0</td>\n",
       "      <td>0</td>\n",
       "      <td>0</td>\n",
       "      <td>0</td>\n",
       "      <td>0</td>\n",
       "      <td>0</td>\n",
       "      <td>0</td>\n",
       "      <td>0</td>\n",
       "      <td>...</td>\n",
       "      <td>0</td>\n",
       "      <td>0</td>\n",
       "      <td>0</td>\n",
       "      <td>0</td>\n",
       "      <td>0</td>\n",
       "      <td>2</td>\n",
       "      <td>0</td>\n",
       "      <td>0</td>\n",
       "      <td>0</td>\n",
       "      <td>0</td>\n",
       "    </tr>\n",
       "    <tr>\n",
       "      <th>2020-01-26</th>\n",
       "      <td>0</td>\n",
       "      <td>0</td>\n",
       "      <td>0</td>\n",
       "      <td>0</td>\n",
       "      <td>0</td>\n",
       "      <td>0</td>\n",
       "      <td>0</td>\n",
       "      <td>0</td>\n",
       "      <td>0</td>\n",
       "      <td>3</td>\n",
       "      <td>...</td>\n",
       "      <td>0</td>\n",
       "      <td>0</td>\n",
       "      <td>0</td>\n",
       "      <td>0</td>\n",
       "      <td>0</td>\n",
       "      <td>2</td>\n",
       "      <td>0</td>\n",
       "      <td>0</td>\n",
       "      <td>0</td>\n",
       "      <td>0</td>\n",
       "    </tr>\n",
       "  </tbody>\n",
       "</table>\n",
       "<p>5 rows × 263 columns</p>\n",
       "</div>"
      ],
      "text/plain": [
       "Country/Region Afghanistan   Albania   Algeria   Andorra    Angola  \\\n",
       "Province/State         NaN       NaN       NaN       NaN       NaN   \n",
       "Lat                33.0000   41.1533   28.0339   42.5063  -11.2027   \n",
       "Long              65.0000   20.1683   1.6596    1.5218    17.8739    \n",
       "2020-01-22               0         0         0         0         0   \n",
       "2020-01-23               0         0         0         0         0   \n",
       "2020-01-24               0         0         0         0         0   \n",
       "2020-01-25               0         0         0         0         0   \n",
       "2020-01-26               0         0         0         0         0   \n",
       "\n",
       "Country/Region Antigua and Barbuda Argentina   Armenia  \\\n",
       "Province/State                 NaN       NaN       NaN   \n",
       "Lat                        17.0608  -38.4161   40.0691   \n",
       "Long                     -61.7964  -63.6167   45.0382    \n",
       "2020-01-22                       0         0         0   \n",
       "2020-01-23                       0         0         0   \n",
       "2020-01-24                       0         0         0   \n",
       "2020-01-25                       0         0         0   \n",
       "2020-01-26                       0         0         0   \n",
       "\n",
       "Country/Region                    Australia                  ...  \\\n",
       "Province/State Australian Capital Territory New South Wales  ...   \n",
       "Lat                                -35.4735        -33.8688  ...   \n",
       "Long                               149.0124        151.2093  ...   \n",
       "2020-01-22                                0               0  ...   \n",
       "2020-01-23                                0               0  ...   \n",
       "2020-01-24                                0               0  ...   \n",
       "2020-01-25                                0               0  ...   \n",
       "2020-01-26                                0               3  ...   \n",
       "\n",
       "Country/Region           United Kingdom             Uruguay Uzbekistan  \\\n",
       "Province/State Turks and Caicos Islands       NaN       NaN        NaN   \n",
       "Lat                             21.6940   55.3781  -32.5228    41.3775   \n",
       "Long                          -71.7979  -3.4360   -55.7658    64.5853    \n",
       "2020-01-22                            0         0         0          0   \n",
       "2020-01-23                            0         0         0          0   \n",
       "2020-01-24                            0         0         0          0   \n",
       "2020-01-25                            0         0         0          0   \n",
       "2020-01-26                            0         0         0          0   \n",
       "\n",
       "Country/Region Venezuela   Vietnam West Bank and Gaza Western Sahara  \\\n",
       "Province/State       NaN       NaN                NaN            NaN   \n",
       "Lat              6.4238    16.0000            31.9522        24.2155   \n",
       "Long           -66.5897   108.0000           35.2332       -12.8858    \n",
       "2020-01-22             0         0                  0              0   \n",
       "2020-01-23             0         2                  0              0   \n",
       "2020-01-24             0         2                  0              0   \n",
       "2020-01-25             0         2                  0              0   \n",
       "2020-01-26             0         2                  0              0   \n",
       "\n",
       "Country/Region    Zambia  Zimbabwe  \n",
       "Province/State       NaN       NaN  \n",
       "Lat             -15.4167  -20.0000  \n",
       "Long            28.2833   30.0000   \n",
       "2020-01-22             0         0  \n",
       "2020-01-23             0         0  \n",
       "2020-01-24             0         0  \n",
       "2020-01-25             0         0  \n",
       "2020-01-26             0         0  \n",
       "\n",
       "[5 rows x 263 columns]"
      ]
     },
     "execution_count": 6,
     "metadata": {},
     "output_type": "execute_result"
    }
   ],
   "source": [
    "data = (\n",
    "    pd.read_csv(\n",
    "        os.path.join(path_data, file_data),\n",
    "        index_col=[\"Country/Region\", \"Province/State\", \"Lat\", \"Long\"],\n",
    "    )\n",
    "    .sort_index()\n",
    "    .T\n",
    ")\n",
    "data.index = pd.to_datetime(data.index)\n",
    "data = data.round(3)\n",
    "data.head()"
   ]
  },
  {
   "cell_type": "markdown",
   "metadata": {},
   "source": [
    "## Total"
   ]
  },
  {
   "cell_type": "code",
   "execution_count": 7,
   "metadata": {},
   "outputs": [],
   "source": [
    "confirmed = pd.DataFrame(index=data.index)"
   ]
  },
  {
   "cell_type": "code",
   "execution_count": 8,
   "metadata": {},
   "outputs": [],
   "source": [
    "confirmed[\"Total\"] = data.sum(axis=1)"
   ]
  },
  {
   "cell_type": "code",
   "execution_count": 9,
   "metadata": {},
   "outputs": [],
   "source": [
    "confirmed[\"ratio_tot\"] = ratio_day(confirmed[\"Total\"])"
   ]
  },
  {
   "cell_type": "code",
   "execution_count": 10,
   "metadata": {},
   "outputs": [],
   "source": [
    "confirmed[\"ratio_diff_tot\"] = substract(confirmed[\"ratio_tot\"])"
   ]
  },
  {
   "cell_type": "markdown",
   "metadata": {},
   "source": [
    "## W/o China"
   ]
  },
  {
   "cell_type": "code",
   "execution_count": 11,
   "metadata": {},
   "outputs": [],
   "source": [
    "confirmed[\"Total_wo_China\"] = confirmed[\"Total\"] - data.loc[:, \"China\"].sum(axis=1)"
   ]
  },
  {
   "cell_type": "code",
   "execution_count": 12,
   "metadata": {},
   "outputs": [],
   "source": [
    "confirmed[\"ratio_wo_China\"] = ratio_day(confirmed[\"Total_wo_China\"])"
   ]
  },
  {
   "cell_type": "code",
   "execution_count": 13,
   "metadata": {},
   "outputs": [],
   "source": [
    "confirmed[\"ratio_diff_wo_China\"] = substract(confirmed[\"ratio_wo_China\"])"
   ]
  },
  {
   "cell_type": "markdown",
   "metadata": {},
   "source": [
    "## Canada"
   ]
  },
  {
   "cell_type": "code",
   "execution_count": 14,
   "metadata": {},
   "outputs": [],
   "source": [
    "confirmed[\"Total_Can\"] = data.loc[:, \"Canada\"].sum(axis=1)"
   ]
  },
  {
   "cell_type": "code",
   "execution_count": 15,
   "metadata": {},
   "outputs": [
    {
     "name": "stderr",
     "output_type": "stream",
     "text": [
      "/Users/leroylouis/.local/lib/python3.6/site-packages/ipykernel_launcher.py:4: RuntimeWarning: invalid value encountered in long_scalars\n",
      "  after removing the cwd from sys.path.\n",
      "/Users/leroylouis/.local/lib/python3.6/site-packages/ipykernel_launcher.py:4: RuntimeWarning: divide by zero encountered in long_scalars\n",
      "  after removing the cwd from sys.path.\n"
     ]
    }
   ],
   "source": [
    "confirmed[\"ratio_Can\"] = ratio_day(confirmed[\"Total_Can\"])"
   ]
  },
  {
   "cell_type": "code",
   "execution_count": 16,
   "metadata": {},
   "outputs": [],
   "source": [
    "confirmed[\"ratio_diff_Can\"] = substract(confirmed[\"ratio_Can\"])"
   ]
  },
  {
   "cell_type": "markdown",
   "metadata": {},
   "source": [
    "## Quebec"
   ]
  },
  {
   "cell_type": "code",
   "execution_count": 17,
   "metadata": {},
   "outputs": [
    {
     "name": "stderr",
     "output_type": "stream",
     "text": [
      "/Users/leroylouis/.local/lib/python3.6/site-packages/pandas/core/indexing.py:1418: PerformanceWarning: indexing past lexsort depth may impact performance.\n",
      "  return self._getitem_tuple(key)\n"
     ]
    }
   ],
   "source": [
    "confirmed[\"Total_Qc\"] = data.loc[:, (\"Canada\", \"Quebec\")].sum(axis=1)"
   ]
  },
  {
   "cell_type": "code",
   "execution_count": 18,
   "metadata": {},
   "outputs": [
    {
     "name": "stderr",
     "output_type": "stream",
     "text": [
      "/Users/leroylouis/.local/lib/python3.6/site-packages/ipykernel_launcher.py:4: RuntimeWarning: invalid value encountered in long_scalars\n",
      "  after removing the cwd from sys.path.\n",
      "/Users/leroylouis/.local/lib/python3.6/site-packages/ipykernel_launcher.py:4: RuntimeWarning: divide by zero encountered in long_scalars\n",
      "  after removing the cwd from sys.path.\n"
     ]
    }
   ],
   "source": [
    "confirmed[\"ratio_Qc\"] = ratio_day(confirmed[\"Total_Qc\"])"
   ]
  },
  {
   "cell_type": "code",
   "execution_count": 19,
   "metadata": {},
   "outputs": [],
   "source": [
    "confirmed[\"ratio_diff_Qc\"] = substract(confirmed[\"ratio_Qc\"])"
   ]
  },
  {
   "cell_type": "markdown",
   "metadata": {},
   "source": [
    "## France (métropole)"
   ]
  },
  {
   "cell_type": "code",
   "execution_count": 20,
   "metadata": {},
   "outputs": [],
   "source": [
    "confirmed[\"Total_Fra\"] = data.loc[:, \"France\"].iloc[:, -1]\n",
    "# data.loc[:, (\"France\", \"France\")].sum(axis=1)"
   ]
  },
  {
   "cell_type": "code",
   "execution_count": 21,
   "metadata": {},
   "outputs": [
    {
     "name": "stderr",
     "output_type": "stream",
     "text": [
      "/Users/leroylouis/.local/lib/python3.6/site-packages/ipykernel_launcher.py:4: RuntimeWarning: invalid value encountered in long_scalars\n",
      "  after removing the cwd from sys.path.\n",
      "/Users/leroylouis/.local/lib/python3.6/site-packages/ipykernel_launcher.py:4: RuntimeWarning: divide by zero encountered in long_scalars\n",
      "  after removing the cwd from sys.path.\n"
     ]
    }
   ],
   "source": [
    "confirmed[\"ratio_Fra\"] = ratio_day(confirmed[\"Total_Fra\"])"
   ]
  },
  {
   "cell_type": "code",
   "execution_count": 22,
   "metadata": {},
   "outputs": [],
   "source": [
    "confirmed[\"ratio_diff_Fra\"] = substract(confirmed[\"ratio_Fra\"])"
   ]
  },
  {
   "cell_type": "markdown",
   "metadata": {},
   "source": [
    "## USA"
   ]
  },
  {
   "cell_type": "code",
   "execution_count": 23,
   "metadata": {},
   "outputs": [],
   "source": [
    "confirmed[\"Total_US\"] = data.loc[:, \"US\"].sum(axis=1)"
   ]
  },
  {
   "cell_type": "code",
   "execution_count": 24,
   "metadata": {},
   "outputs": [],
   "source": [
    "confirmed[\"ratio_US\"] = ratio_day(confirmed[\"Total_US\"])"
   ]
  },
  {
   "cell_type": "code",
   "execution_count": 25,
   "metadata": {},
   "outputs": [],
   "source": [
    "confirmed[\"ratio_diff_US\"] = substract(confirmed[\"ratio_US\"])"
   ]
  },
  {
   "cell_type": "markdown",
   "metadata": {},
   "source": [
    "## Tables"
   ]
  },
  {
   "cell_type": "code",
   "execution_count": 26,
   "metadata": {},
   "outputs": [
    {
     "data": {
      "text/html": [
       "<div>\n",
       "<style scoped>\n",
       "    .dataframe tbody tr th:only-of-type {\n",
       "        vertical-align: middle;\n",
       "    }\n",
       "\n",
       "    .dataframe tbody tr th {\n",
       "        vertical-align: top;\n",
       "    }\n",
       "\n",
       "    .dataframe thead th {\n",
       "        text-align: right;\n",
       "    }\n",
       "</style>\n",
       "<table border=\"1\" class=\"dataframe\">\n",
       "  <thead>\n",
       "    <tr style=\"text-align: right;\">\n",
       "      <th></th>\n",
       "      <th>Total</th>\n",
       "      <th>Total_wo_China</th>\n",
       "      <th>Total_Can</th>\n",
       "      <th>Total_Qc</th>\n",
       "      <th>Total_Fra</th>\n",
       "      <th>Total_US</th>\n",
       "    </tr>\n",
       "  </thead>\n",
       "  <tbody>\n",
       "    <tr>\n",
       "      <th>2020-04-04</th>\n",
       "      <td>1197405</td>\n",
       "      <td>1114862</td>\n",
       "      <td>12978</td>\n",
       "      <td>6101</td>\n",
       "      <td>89953</td>\n",
       "      <td>308850</td>\n",
       "    </tr>\n",
       "    <tr>\n",
       "      <th>2020-04-05</th>\n",
       "      <td>1272115</td>\n",
       "      <td>1189513</td>\n",
       "      <td>15756</td>\n",
       "      <td>7944</td>\n",
       "      <td>92839</td>\n",
       "      <td>337072</td>\n",
       "    </tr>\n",
       "    <tr>\n",
       "      <th>2020-04-06</th>\n",
       "      <td>1345101</td>\n",
       "      <td>1262436</td>\n",
       "      <td>16563</td>\n",
       "      <td>8580</td>\n",
       "      <td>98010</td>\n",
       "      <td>366667</td>\n",
       "    </tr>\n",
       "    <tr>\n",
       "      <th>2020-04-07</th>\n",
       "      <td>1426096</td>\n",
       "      <td>1343378</td>\n",
       "      <td>17872</td>\n",
       "      <td>9340</td>\n",
       "      <td>109069</td>\n",
       "      <td>396223</td>\n",
       "    </tr>\n",
       "    <tr>\n",
       "      <th>2020-04-08</th>\n",
       "      <td>1511104</td>\n",
       "      <td>1428295</td>\n",
       "      <td>19141</td>\n",
       "      <td>10031</td>\n",
       "      <td>112950</td>\n",
       "      <td>429052</td>\n",
       "    </tr>\n",
       "  </tbody>\n",
       "</table>\n",
       "</div>"
      ],
      "text/plain": [
       "              Total  Total_wo_China  Total_Can  Total_Qc  Total_Fra  Total_US\n",
       "2020-04-04  1197405         1114862      12978      6101      89953    308850\n",
       "2020-04-05  1272115         1189513      15756      7944      92839    337072\n",
       "2020-04-06  1345101         1262436      16563      8580      98010    366667\n",
       "2020-04-07  1426096         1343378      17872      9340     109069    396223\n",
       "2020-04-08  1511104         1428295      19141     10031     112950    429052"
      ]
     },
     "execution_count": 26,
     "metadata": {},
     "output_type": "execute_result"
    }
   ],
   "source": [
    "confirmed[[\"Total\", \"Total_wo_China\", \"Total_Can\", \"Total_Qc\", \"Total_Fra\", \"Total_US\"]].tail()"
   ]
  },
  {
   "cell_type": "code",
   "execution_count": 27,
   "metadata": {},
   "outputs": [
    {
     "data": {
      "text/html": [
       "<div>\n",
       "<style scoped>\n",
       "    .dataframe tbody tr th:only-of-type {\n",
       "        vertical-align: middle;\n",
       "    }\n",
       "\n",
       "    .dataframe tbody tr th {\n",
       "        vertical-align: top;\n",
       "    }\n",
       "\n",
       "    .dataframe thead th {\n",
       "        text-align: right;\n",
       "    }\n",
       "</style>\n",
       "<table border=\"1\" class=\"dataframe\">\n",
       "  <thead>\n",
       "    <tr style=\"text-align: right;\">\n",
       "      <th></th>\n",
       "      <th>ratio_tot</th>\n",
       "      <th>ratio_wo_China</th>\n",
       "      <th>ratio_Can</th>\n",
       "      <th>ratio_Qc</th>\n",
       "      <th>ratio_Fra</th>\n",
       "      <th>ratio_US</th>\n",
       "    </tr>\n",
       "  </thead>\n",
       "  <tbody>\n",
       "    <tr>\n",
       "      <th>2020-04-04</th>\n",
       "      <td>1.093</td>\n",
       "      <td>1.100</td>\n",
       "      <td>1.043</td>\n",
       "      <td>1.000</td>\n",
       "      <td>1.398</td>\n",
       "      <td>1.121</td>\n",
       "    </tr>\n",
       "    <tr>\n",
       "      <th>2020-04-05</th>\n",
       "      <td>1.062</td>\n",
       "      <td>1.067</td>\n",
       "      <td>1.214</td>\n",
       "      <td>1.302</td>\n",
       "      <td>1.032</td>\n",
       "      <td>1.091</td>\n",
       "    </tr>\n",
       "    <tr>\n",
       "      <th>2020-04-06</th>\n",
       "      <td>1.057</td>\n",
       "      <td>1.061</td>\n",
       "      <td>1.051</td>\n",
       "      <td>1.080</td>\n",
       "      <td>1.056</td>\n",
       "      <td>1.088</td>\n",
       "    </tr>\n",
       "    <tr>\n",
       "      <th>2020-04-07</th>\n",
       "      <td>1.060</td>\n",
       "      <td>1.064</td>\n",
       "      <td>1.079</td>\n",
       "      <td>1.089</td>\n",
       "      <td>1.113</td>\n",
       "      <td>1.081</td>\n",
       "    </tr>\n",
       "    <tr>\n",
       "      <th>2020-04-08</th>\n",
       "      <td>1.060</td>\n",
       "      <td>1.063</td>\n",
       "      <td>1.071</td>\n",
       "      <td>1.074</td>\n",
       "      <td>1.036</td>\n",
       "      <td>1.083</td>\n",
       "    </tr>\n",
       "  </tbody>\n",
       "</table>\n",
       "</div>"
      ],
      "text/plain": [
       "            ratio_tot  ratio_wo_China  ratio_Can  ratio_Qc  ratio_Fra  \\\n",
       "2020-04-04      1.093           1.100      1.043     1.000      1.398   \n",
       "2020-04-05      1.062           1.067      1.214     1.302      1.032   \n",
       "2020-04-06      1.057           1.061      1.051     1.080      1.056   \n",
       "2020-04-07      1.060           1.064      1.079     1.089      1.113   \n",
       "2020-04-08      1.060           1.063      1.071     1.074      1.036   \n",
       "\n",
       "            ratio_US  \n",
       "2020-04-04     1.121  \n",
       "2020-04-05     1.091  \n",
       "2020-04-06     1.088  \n",
       "2020-04-07     1.081  \n",
       "2020-04-08     1.083  "
      ]
     },
     "execution_count": 27,
     "metadata": {},
     "output_type": "execute_result"
    }
   ],
   "source": [
    "confirmed[[\"ratio_tot\", \"ratio_wo_China\", \"ratio_Can\", \"ratio_Qc\", \"ratio_Fra\", \"ratio_US\"]].tail()"
   ]
  },
  {
   "cell_type": "code",
   "execution_count": 28,
   "metadata": {},
   "outputs": [
    {
     "data": {
      "text/html": [
       "<div>\n",
       "<style scoped>\n",
       "    .dataframe tbody tr th:only-of-type {\n",
       "        vertical-align: middle;\n",
       "    }\n",
       "\n",
       "    .dataframe tbody tr th {\n",
       "        vertical-align: top;\n",
       "    }\n",
       "\n",
       "    .dataframe thead th {\n",
       "        text-align: right;\n",
       "    }\n",
       "</style>\n",
       "<table border=\"1\" class=\"dataframe\">\n",
       "  <thead>\n",
       "    <tr style=\"text-align: right;\">\n",
       "      <th></th>\n",
       "      <th>ratio_diff_tot</th>\n",
       "      <th>ratio_diff_wo_China</th>\n",
       "      <th>ratio_diff_Can</th>\n",
       "      <th>ratio_diff_Qc</th>\n",
       "      <th>ratio_diff_Fra</th>\n",
       "      <th>ratio_diff_US</th>\n",
       "    </tr>\n",
       "  </thead>\n",
       "  <tbody>\n",
       "    <tr>\n",
       "      <th>2020-04-04</th>\n",
       "      <td>0.011</td>\n",
       "      <td>0.011</td>\n",
       "      <td>-0.059</td>\n",
       "      <td>-0.106</td>\n",
       "      <td>0.309</td>\n",
       "      <td>-0.010</td>\n",
       "    </tr>\n",
       "    <tr>\n",
       "      <th>2020-04-05</th>\n",
       "      <td>-0.031</td>\n",
       "      <td>-0.033</td>\n",
       "      <td>0.171</td>\n",
       "      <td>0.302</td>\n",
       "      <td>-0.366</td>\n",
       "      <td>-0.030</td>\n",
       "    </tr>\n",
       "    <tr>\n",
       "      <th>2020-04-06</th>\n",
       "      <td>-0.005</td>\n",
       "      <td>-0.006</td>\n",
       "      <td>-0.163</td>\n",
       "      <td>-0.222</td>\n",
       "      <td>0.024</td>\n",
       "      <td>-0.003</td>\n",
       "    </tr>\n",
       "    <tr>\n",
       "      <th>2020-04-07</th>\n",
       "      <td>0.003</td>\n",
       "      <td>0.003</td>\n",
       "      <td>0.028</td>\n",
       "      <td>0.009</td>\n",
       "      <td>0.057</td>\n",
       "      <td>-0.007</td>\n",
       "    </tr>\n",
       "    <tr>\n",
       "      <th>2020-04-08</th>\n",
       "      <td>0.000</td>\n",
       "      <td>-0.001</td>\n",
       "      <td>-0.008</td>\n",
       "      <td>-0.015</td>\n",
       "      <td>-0.077</td>\n",
       "      <td>0.002</td>\n",
       "    </tr>\n",
       "  </tbody>\n",
       "</table>\n",
       "</div>"
      ],
      "text/plain": [
       "            ratio_diff_tot  ratio_diff_wo_China  ratio_diff_Can  \\\n",
       "2020-04-04           0.011                0.011          -0.059   \n",
       "2020-04-05          -0.031               -0.033           0.171   \n",
       "2020-04-06          -0.005               -0.006          -0.163   \n",
       "2020-04-07           0.003                0.003           0.028   \n",
       "2020-04-08           0.000               -0.001          -0.008   \n",
       "\n",
       "            ratio_diff_Qc  ratio_diff_Fra  ratio_diff_US  \n",
       "2020-04-04         -0.106           0.309         -0.010  \n",
       "2020-04-05          0.302          -0.366         -0.030  \n",
       "2020-04-06         -0.222           0.024         -0.003  \n",
       "2020-04-07          0.009           0.057         -0.007  \n",
       "2020-04-08         -0.015          -0.077          0.002  "
      ]
     },
     "execution_count": 28,
     "metadata": {},
     "output_type": "execute_result"
    }
   ],
   "source": [
    "confirmed[\n",
    "    [\n",
    "        \"ratio_diff_tot\",\n",
    "        \"ratio_diff_wo_China\",\n",
    "        \"ratio_diff_Can\",\n",
    "        \"ratio_diff_Qc\",\n",
    "        \"ratio_diff_Fra\",\n",
    "        \"ratio_diff_US\",\n",
    "    ]\n",
    "].tail()"
   ]
  },
  {
   "cell_type": "markdown",
   "metadata": {},
   "source": [
    "## Plots"
   ]
  },
  {
   "cell_type": "code",
   "execution_count": 29,
   "metadata": {},
   "outputs": [
    {
     "data": {
      "text/plain": [
       "<matplotlib.legend.Legend at 0x124da5f60>"
      ]
     },
     "execution_count": 29,
     "metadata": {},
     "output_type": "execute_result"
    },
    {
     "data": {
      "image/png": "[encoded data removed]",
      "text/plain": [
       "<Figure size 432x288 with 1 Axes>"
      ]
     },
     "metadata": {
      "needs_background": "light"
     },
     "output_type": "display_data"
    }
   ],
   "source": [
    "# Ratio\n",
    "ax_ratio = confirmed[\n",
    "    [\"ratio_tot\", \"ratio_wo_China\", \"ratio_Can\", \"ratio_Qc\", \"ratio_Fra\", \"ratio_US\"]\n",
    "].plot()\n",
    "for i, line in enumerate(ax_ratio.get_lines()):\n",
    "    line.set_marker(markers[i])\n",
    "    line.set_linestyle(styles[i])\n",
    "ax_ratio.legend(bbox_to_anchor=(1, 0.75))"
   ]
  },
  {
   "cell_type": "code",
   "execution_count": 30,
   "metadata": {},
   "outputs": [
    {
     "data": {
      "text/plain": [
       "<matplotlib.legend.Legend at 0x1254762e8>"
      ]
     },
     "execution_count": 30,
     "metadata": {},
     "output_type": "execute_result"
    },
    {
     "data": {
      "image/png": "[encoded data removed]",
      "text/plain": [
       "<Figure size 432x288 with 1 Axes>"
      ]
     },
     "metadata": {
      "needs_background": "light"
     },
     "output_type": "display_data"
    }
   ],
   "source": [
    "# Ratio diff\n",
    "ax_ratio = confirmed[\n",
    "    [\n",
    "        \"ratio_diff_tot\",\n",
    "        \"ratio_diff_wo_China\",\n",
    "        \"ratio_diff_Can\",\n",
    "        \"ratio_diff_Qc\",\n",
    "        \"ratio_diff_Fra\",\n",
    "        \"ratio_diff_US\",\n",
    "    ]\n",
    "].plot()\n",
    "for i, line in enumerate(ax_ratio.get_lines()):\n",
    "    line.set_marker(markers[i])\n",
    "    line.set_linestyle(styles[i])\n",
    "ax_ratio.legend(bbox_to_anchor=(1, 0.75))"
   ]
  },
  {
   "cell_type": "code",
   "execution_count": 31,
   "metadata": {},
   "outputs": [
    {
     "data": {
      "text/plain": [
       "<matplotlib.legend.Legend at 0x125612518>"
      ]
     },
     "execution_count": 31,
     "metadata": {},
     "output_type": "execute_result"
    },
    {
     "data": {
      "image/png": "[encoded data removed]",
      "text/plain": [
       "<Figure size 432x288 with 2 Axes>"
      ]
     },
     "metadata": {
      "needs_background": "light"
     },
     "output_type": "display_data"
    }
   ],
   "source": [
    "# Cases\n",
    "fig, ax_total = plt.subplots(1,1)\n",
    "\n",
    "ax_total.plot(confirmed[\n",
    "    [\"Total\", \"Total_wo_China\"]\n",
    "])\n",
    "ax2 = ax_total.twinx()\n",
    "ax2.plot(confirmed[\n",
    "    [\"Total_Can\", \"Total_Qc\", \"Total_Fra\"]\n",
    "])\n",
    "for i, line in enumerate(ax_total.get_lines()):\n",
    "    line.set_marker(markers[i])\n",
    "for j, line in enumerate(ax2.get_lines()):\n",
    "    line.set_marker(markers[-j])\n",
    "    line.set_color(graph_colors[j+2])\n",
    "    \n",
    "ax_total.legend([\"Total\", \"Total_wo_China\", \"Total_Can\", \"Total_Qc\", \"Total_Fra\"])\n",
    "ax2.legend([\"Total_Can\", \"Total_Qc\", \"Total_Fra\"], bbox_to_anchor=(0.9, 1))"
   ]
  },
  {
   "cell_type": "code",
   "execution_count": null,
   "metadata": {},
   "outputs": [],
   "source": []
  }
 ],
 "metadata": {
  "kernelspec": {
   "display_name": "Python 3",
   "language": "python",
   "name": "python3"
  },
  "language_info": {
   "codemirror_mode": {
    "name": "ipython",
    "version": 3
   },
   "file_extension": ".py",
   "mimetype": "text/x-python",
   "name": "python",
   "nbconvert_exporter": "python",
   "pygments_lexer": "ipython3",
   "version": "3.6.10"
  }
 },
 "nbformat": 4,
 "nbformat_minor": 4
}
