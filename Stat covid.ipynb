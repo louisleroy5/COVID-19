{
 "cells": [
  {
   "cell_type": "code",
   "execution_count": 1,
   "metadata": {},
   "outputs": [],
   "source": [
    "import os\n",
    "import pandas as pd\n",
    "import matplotlib.pyplot as plt\n",
    "\n",
    "from matplotlib.dates import DateFormatter\n",
    "\n",
    "graph_colors = plt.cm.get_cmap(\"tab10\").colors\n",
    "formatter_week = DateFormatter(\"%b %d\")"
   ]
  },
  {
   "cell_type": "code",
   "execution_count": 2,
   "metadata": {},
   "outputs": [],
   "source": [
    "def ratio_day(serie):\n",
    "    l = [None]\n",
    "    for i in range(1, len(serie)):\n",
    "        l.append(round((serie[i] / serie[i - 1]), 3))\n",
    "\n",
    "    return l"
   ]
  },
  {
   "cell_type": "code",
   "execution_count": 3,
   "metadata": {},
   "outputs": [],
   "source": [
    "def substract(serie):\n",
    "    l = [None]\n",
    "    for i in range(1, len(serie)):\n",
    "        l.append(round((serie[i] - serie[i - 1]), 3))\n",
    "\n",
    "    return l"
   ]
  },
  {
   "cell_type": "code",
   "execution_count": 4,
   "metadata": {},
   "outputs": [],
   "source": [
    "markers = [\"o\", \"*\", \"v\", \"s\", \"p\", \"h\"]\n",
    "styles = [\"-\", \"-.\", \"--\", \":\", \"-\", \"-.\"]"
   ]
  },
  {
   "cell_type": "code",
   "execution_count": 5,
   "metadata": {},
   "outputs": [],
   "source": [
    "path_data = os.path.join(\"csse_covid_19_data\", \"csse_covid_19_time_series\")\n",
    "file_data = \"time_series_covid19_confirmed_global.csv\""
   ]
  },
  {
   "cell_type": "code",
   "execution_count": 6,
   "metadata": {},
   "outputs": [
    {
     "data": {
      "text/html": [
       "<div>\n",
       "<style scoped>\n",
       "    .dataframe tbody tr th:only-of-type {\n",
       "        vertical-align: middle;\n",
       "    }\n",
       "\n",
       "    .dataframe tbody tr th {\n",
       "        vertical-align: top;\n",
       "    }\n",
       "\n",
       "    .dataframe thead tr th {\n",
       "        text-align: left;\n",
       "    }\n",
       "</style>\n",
       "<table border=\"1\" class=\"dataframe\">\n",
       "  <thead>\n",
       "    <tr>\n",
       "      <th>Country/Region</th>\n",
       "      <th>Afghanistan</th>\n",
       "      <th>Albania</th>\n",
       "      <th>Algeria</th>\n",
       "      <th>Andorra</th>\n",
       "      <th>Angola</th>\n",
       "      <th>Antigua and Barbuda</th>\n",
       "      <th>Argentina</th>\n",
       "      <th>Armenia</th>\n",
       "      <th colspan=\"2\" halign=\"left\">Australia</th>\n",
       "      <th>...</th>\n",
       "      <th>United Kingdom</th>\n",
       "      <th>Uruguay</th>\n",
       "      <th>Uzbekistan</th>\n",
       "      <th>Venezuela</th>\n",
       "      <th>Vietnam</th>\n",
       "      <th>West Bank and Gaza</th>\n",
       "      <th>Western Sahara</th>\n",
       "      <th>Yemen</th>\n",
       "      <th>Zambia</th>\n",
       "      <th>Zimbabwe</th>\n",
       "    </tr>\n",
       "    <tr>\n",
       "      <th>Province/State</th>\n",
       "      <th>NaN</th>\n",
       "      <th>NaN</th>\n",
       "      <th>NaN</th>\n",
       "      <th>NaN</th>\n",
       "      <th>NaN</th>\n",
       "      <th>NaN</th>\n",
       "      <th>NaN</th>\n",
       "      <th>NaN</th>\n",
       "      <th>Australian Capital Territory</th>\n",
       "      <th>New South Wales</th>\n",
       "      <th>...</th>\n",
       "      <th>NaN</th>\n",
       "      <th>NaN</th>\n",
       "      <th>NaN</th>\n",
       "      <th>NaN</th>\n",
       "      <th>NaN</th>\n",
       "      <th>NaN</th>\n",
       "      <th>NaN</th>\n",
       "      <th>NaN</th>\n",
       "      <th>NaN</th>\n",
       "      <th>NaN</th>\n",
       "    </tr>\n",
       "    <tr>\n",
       "      <th>Lat</th>\n",
       "      <th>33.000000</th>\n",
       "      <th>41.153300</th>\n",
       "      <th>28.033900</th>\n",
       "      <th>42.506300</th>\n",
       "      <th>-11.202700</th>\n",
       "      <th>17.060800</th>\n",
       "      <th>-38.416100</th>\n",
       "      <th>40.069100</th>\n",
       "      <th>-35.473500</th>\n",
       "      <th>-33.868800</th>\n",
       "      <th>...</th>\n",
       "      <th>55.378100</th>\n",
       "      <th>-32.522800</th>\n",
       "      <th>41.377500</th>\n",
       "      <th>6.423800</th>\n",
       "      <th>16.000000</th>\n",
       "      <th>31.952200</th>\n",
       "      <th>24.215500</th>\n",
       "      <th>15.552727</th>\n",
       "      <th>-15.416700</th>\n",
       "      <th>-20.000000</th>\n",
       "    </tr>\n",
       "    <tr>\n",
       "      <th>Long</th>\n",
       "      <th>65.000000</th>\n",
       "      <th>20.168300</th>\n",
       "      <th>1.659600</th>\n",
       "      <th>1.521800</th>\n",
       "      <th>17.873900</th>\n",
       "      <th>-61.796400</th>\n",
       "      <th>-63.616700</th>\n",
       "      <th>45.038200</th>\n",
       "      <th>149.012400</th>\n",
       "      <th>151.209300</th>\n",
       "      <th>...</th>\n",
       "      <th>-3.436000</th>\n",
       "      <th>-55.765800</th>\n",
       "      <th>64.585300</th>\n",
       "      <th>-66.589700</th>\n",
       "      <th>108.000000</th>\n",
       "      <th>35.233200</th>\n",
       "      <th>-12.885800</th>\n",
       "      <th>48.516388</th>\n",
       "      <th>28.283300</th>\n",
       "      <th>30.000000</th>\n",
       "    </tr>\n",
       "  </thead>\n",
       "  <tbody>\n",
       "    <tr>\n",
       "      <th>2020-01-22</th>\n",
       "      <td>0</td>\n",
       "      <td>0</td>\n",
       "      <td>0</td>\n",
       "      <td>0</td>\n",
       "      <td>0</td>\n",
       "      <td>0</td>\n",
       "      <td>0</td>\n",
       "      <td>0</td>\n",
       "      <td>0</td>\n",
       "      <td>0</td>\n",
       "      <td>...</td>\n",
       "      <td>0</td>\n",
       "      <td>0</td>\n",
       "      <td>0</td>\n",
       "      <td>0</td>\n",
       "      <td>0</td>\n",
       "      <td>0</td>\n",
       "      <td>0</td>\n",
       "      <td>0</td>\n",
       "      <td>0</td>\n",
       "      <td>0</td>\n",
       "    </tr>\n",
       "    <tr>\n",
       "      <th>2020-01-23</th>\n",
       "      <td>0</td>\n",
       "      <td>0</td>\n",
       "      <td>0</td>\n",
       "      <td>0</td>\n",
       "      <td>0</td>\n",
       "      <td>0</td>\n",
       "      <td>0</td>\n",
       "      <td>0</td>\n",
       "      <td>0</td>\n",
       "      <td>0</td>\n",
       "      <td>...</td>\n",
       "      <td>0</td>\n",
       "      <td>0</td>\n",
       "      <td>0</td>\n",
       "      <td>0</td>\n",
       "      <td>2</td>\n",
       "      <td>0</td>\n",
       "      <td>0</td>\n",
       "      <td>0</td>\n",
       "      <td>0</td>\n",
       "      <td>0</td>\n",
       "    </tr>\n",
       "    <tr>\n",
       "      <th>2020-01-24</th>\n",
       "      <td>0</td>\n",
       "      <td>0</td>\n",
       "      <td>0</td>\n",
       "      <td>0</td>\n",
       "      <td>0</td>\n",
       "      <td>0</td>\n",
       "      <td>0</td>\n",
       "      <td>0</td>\n",
       "      <td>0</td>\n",
       "      <td>0</td>\n",
       "      <td>...</td>\n",
       "      <td>0</td>\n",
       "      <td>0</td>\n",
       "      <td>0</td>\n",
       "      <td>0</td>\n",
       "      <td>2</td>\n",
       "      <td>0</td>\n",
       "      <td>0</td>\n",
       "      <td>0</td>\n",
       "      <td>0</td>\n",
       "      <td>0</td>\n",
       "    </tr>\n",
       "    <tr>\n",
       "      <th>2020-01-25</th>\n",
       "      <td>0</td>\n",
       "      <td>0</td>\n",
       "      <td>0</td>\n",
       "      <td>0</td>\n",
       "      <td>0</td>\n",
       "      <td>0</td>\n",
       "      <td>0</td>\n",
       "      <td>0</td>\n",
       "      <td>0</td>\n",
       "      <td>0</td>\n",
       "      <td>...</td>\n",
       "      <td>0</td>\n",
       "      <td>0</td>\n",
       "      <td>0</td>\n",
       "      <td>0</td>\n",
       "      <td>2</td>\n",
       "      <td>0</td>\n",
       "      <td>0</td>\n",
       "      <td>0</td>\n",
       "      <td>0</td>\n",
       "      <td>0</td>\n",
       "    </tr>\n",
       "    <tr>\n",
       "      <th>2020-01-26</th>\n",
       "      <td>0</td>\n",
       "      <td>0</td>\n",
       "      <td>0</td>\n",
       "      <td>0</td>\n",
       "      <td>0</td>\n",
       "      <td>0</td>\n",
       "      <td>0</td>\n",
       "      <td>0</td>\n",
       "      <td>0</td>\n",
       "      <td>3</td>\n",
       "      <td>...</td>\n",
       "      <td>0</td>\n",
       "      <td>0</td>\n",
       "      <td>0</td>\n",
       "      <td>0</td>\n",
       "      <td>2</td>\n",
       "      <td>0</td>\n",
       "      <td>0</td>\n",
       "      <td>0</td>\n",
       "      <td>0</td>\n",
       "      <td>0</td>\n",
       "    </tr>\n",
       "  </tbody>\n",
       "</table>\n",
       "<p>5 rows × 264 columns</p>\n",
       "</div>"
      ],
      "text/plain": [
       "Country/Region Afghanistan     Albania     Algeria     Andorra      Angola  \\\n",
       "Province/State         NaN         NaN         NaN         NaN         NaN   \n",
       "Lat              33.000000   41.153300   28.033900   42.506300  -11.202700   \n",
       "Long            65.000000   20.168300   1.659600    1.521800    17.873900    \n",
       "2020-01-22               0           0           0           0           0   \n",
       "2020-01-23               0           0           0           0           0   \n",
       "2020-01-24               0           0           0           0           0   \n",
       "2020-01-25               0           0           0           0           0   \n",
       "2020-01-26               0           0           0           0           0   \n",
       "\n",
       "Country/Region Antigua and Barbuda   Argentina     Armenia  \\\n",
       "Province/State                 NaN         NaN         NaN   \n",
       "Lat                      17.060800  -38.416100   40.069100   \n",
       "Long                   -61.796400  -63.616700   45.038200    \n",
       "2020-01-22                       0           0           0   \n",
       "2020-01-23                       0           0           0   \n",
       "2020-01-24                       0           0           0   \n",
       "2020-01-25                       0           0           0   \n",
       "2020-01-26                       0           0           0   \n",
       "\n",
       "Country/Region                    Australia                  ...  \\\n",
       "Province/State Australian Capital Territory New South Wales  ...   \n",
       "Lat                              -35.473500      -33.868800  ...   \n",
       "Long                             149.012400      151.209300  ...   \n",
       "2020-01-22                                0               0  ...   \n",
       "2020-01-23                                0               0  ...   \n",
       "2020-01-24                                0               0  ...   \n",
       "2020-01-25                                0               0  ...   \n",
       "2020-01-26                                0               3  ...   \n",
       "\n",
       "Country/Region United Kingdom     Uruguay  Uzbekistan   Venezuela     Vietnam  \\\n",
       "Province/State            NaN         NaN         NaN         NaN         NaN   \n",
       "Lat                 55.378100  -32.522800   41.377500   6.423800    16.000000   \n",
       "Long              -3.436000   -55.765800   64.585300  -66.589700   108.000000   \n",
       "2020-01-22                  0           0           0           0           0   \n",
       "2020-01-23                  0           0           0           0           2   \n",
       "2020-01-24                  0           0           0           0           2   \n",
       "2020-01-25                  0           0           0           0           2   \n",
       "2020-01-26                  0           0           0           0           2   \n",
       "\n",
       "Country/Region West Bank and Gaza Western Sahara       Yemen      Zambia  \\\n",
       "Province/State                NaN            NaN         NaN         NaN   \n",
       "Lat                     31.952200      24.215500   15.552727  -15.416700   \n",
       "Long                   35.233200     -12.885800   48.516388   28.283300    \n",
       "2020-01-22                      0              0           0           0   \n",
       "2020-01-23                      0              0           0           0   \n",
       "2020-01-24                      0              0           0           0   \n",
       "2020-01-25                      0              0           0           0   \n",
       "2020-01-26                      0              0           0           0   \n",
       "\n",
       "Country/Region    Zimbabwe  \n",
       "Province/State         NaN  \n",
       "Lat             -20.000000  \n",
       "Long            30.000000   \n",
       "2020-01-22               0  \n",
       "2020-01-23               0  \n",
       "2020-01-24               0  \n",
       "2020-01-25               0  \n",
       "2020-01-26               0  \n",
       "\n",
       "[5 rows x 264 columns]"
      ]
     },
     "execution_count": 6,
     "metadata": {},
     "output_type": "execute_result"
    }
   ],
   "source": [
    "data = (\n",
    "    pd.read_csv(\n",
    "        os.path.join(path_data, file_data),\n",
    "        index_col=[\"Country/Region\", \"Province/State\", \"Lat\", \"Long\"],\n",
    "    )\n",
    "    .sort_index()\n",
    "    .T\n",
    ")\n",
    "data.index = pd.to_datetime(data.index)\n",
    "data = data.round(3)\n",
    "data.head()"
   ]
  },
  {
   "cell_type": "markdown",
   "metadata": {},
   "source": [
    "## Total"
   ]
  },
  {
   "cell_type": "code",
   "execution_count": 7,
   "metadata": {},
   "outputs": [],
   "source": [
    "confirmed = pd.DataFrame(index=data.index)"
   ]
  },
  {
   "cell_type": "code",
   "execution_count": 8,
   "metadata": {},
   "outputs": [],
   "source": [
    "confirmed[\"Total\"] = data.sum(axis=1)"
   ]
  },
  {
   "cell_type": "code",
   "execution_count": 9,
   "metadata": {},
   "outputs": [],
   "source": [
    "confirmed[\"ratio_tot\"] = ratio_day(confirmed[\"Total\"])"
   ]
  },
  {
   "cell_type": "code",
   "execution_count": 10,
   "metadata": {},
   "outputs": [],
   "source": [
    "confirmed[\"ratio_diff_tot\"] = substract(confirmed[\"ratio_tot\"])"
   ]
  },
  {
   "cell_type": "markdown",
   "metadata": {},
   "source": [
    "## W/o China"
   ]
  },
  {
   "cell_type": "code",
   "execution_count": 11,
   "metadata": {},
   "outputs": [],
   "source": [
    "confirmed[\"Total_wo_China\"] = confirmed[\"Total\"] - data.loc[:, \"China\"].sum(axis=1)"
   ]
  },
  {
   "cell_type": "code",
   "execution_count": 12,
   "metadata": {},
   "outputs": [],
   "source": [
    "confirmed[\"ratio_wo_China\"] = ratio_day(confirmed[\"Total_wo_China\"])"
   ]
  },
  {
   "cell_type": "code",
   "execution_count": 13,
   "metadata": {},
   "outputs": [],
   "source": [
    "confirmed[\"ratio_diff_wo_China\"] = substract(confirmed[\"ratio_wo_China\"])"
   ]
  },
  {
   "cell_type": "markdown",
   "metadata": {},
   "source": [
    "## Canada"
   ]
  },
  {
   "cell_type": "code",
   "execution_count": 14,
   "metadata": {},
   "outputs": [],
   "source": [
    "confirmed[\"Total_Can\"] = data.loc[:, \"Canada\"].sum(axis=1)"
   ]
  },
  {
   "cell_type": "code",
   "execution_count": 15,
   "metadata": {},
   "outputs": [
    {
     "name": "stderr",
     "output_type": "stream",
     "text": [
      "/Users/leroylouis/.local/lib/python3.6/site-packages/ipykernel_launcher.py:4: RuntimeWarning: invalid value encountered in long_scalars\n",
      "  after removing the cwd from sys.path.\n",
      "/Users/leroylouis/.local/lib/python3.6/site-packages/ipykernel_launcher.py:4: RuntimeWarning: divide by zero encountered in long_scalars\n",
      "  after removing the cwd from sys.path.\n"
     ]
    }
   ],
   "source": [
    "confirmed[\"ratio_Can\"] = ratio_day(confirmed[\"Total_Can\"])"
   ]
  },
  {
   "cell_type": "code",
   "execution_count": 16,
   "metadata": {},
   "outputs": [],
   "source": [
    "confirmed[\"ratio_diff_Can\"] = substract(confirmed[\"ratio_Can\"])"
   ]
  },
  {
   "cell_type": "markdown",
   "metadata": {},
   "source": [
    "## Quebec"
   ]
  },
  {
   "cell_type": "code",
   "execution_count": 17,
   "metadata": {},
   "outputs": [
    {
     "name": "stderr",
     "output_type": "stream",
     "text": [
      "/Users/leroylouis/.local/lib/python3.6/site-packages/pandas/core/indexing.py:1418: PerformanceWarning: indexing past lexsort depth may impact performance.\n",
      "  return self._getitem_tuple(key)\n"
     ]
    }
   ],
   "source": [
    "confirmed[\"Total_Qc\"] = data.loc[:, (\"Canada\", \"Quebec\")].sum(axis=1)"
   ]
  },
  {
   "cell_type": "code",
   "execution_count": 18,
   "metadata": {},
   "outputs": [
    {
     "name": "stderr",
     "output_type": "stream",
     "text": [
      "/Users/leroylouis/.local/lib/python3.6/site-packages/ipykernel_launcher.py:4: RuntimeWarning: invalid value encountered in long_scalars\n",
      "  after removing the cwd from sys.path.\n",
      "/Users/leroylouis/.local/lib/python3.6/site-packages/ipykernel_launcher.py:4: RuntimeWarning: divide by zero encountered in long_scalars\n",
      "  after removing the cwd from sys.path.\n"
     ]
    }
   ],
   "source": [
    "confirmed[\"ratio_Qc\"] = ratio_day(confirmed[\"Total_Qc\"])"
   ]
  },
  {
   "cell_type": "code",
   "execution_count": 19,
   "metadata": {},
   "outputs": [],
   "source": [
    "confirmed[\"ratio_diff_Qc\"] = substract(confirmed[\"ratio_Qc\"])"
   ]
  },
  {
   "cell_type": "markdown",
   "metadata": {},
   "source": [
    "## France (métropole)"
   ]
  },
  {
   "cell_type": "code",
   "execution_count": 20,
   "metadata": {},
   "outputs": [],
   "source": [
    "confirmed[\"Total_Fra\"] = data.loc[:, \"France\"].iloc[:, -1]\n",
    "# data.loc[:, (\"France\", \"France\")].sum(axis=1)"
   ]
  },
  {
   "cell_type": "code",
   "execution_count": 21,
   "metadata": {},
   "outputs": [
    {
     "name": "stderr",
     "output_type": "stream",
     "text": [
      "/Users/leroylouis/.local/lib/python3.6/site-packages/ipykernel_launcher.py:4: RuntimeWarning: invalid value encountered in long_scalars\n",
      "  after removing the cwd from sys.path.\n",
      "/Users/leroylouis/.local/lib/python3.6/site-packages/ipykernel_launcher.py:4: RuntimeWarning: divide by zero encountered in long_scalars\n",
      "  after removing the cwd from sys.path.\n"
     ]
    }
   ],
   "source": [
    "confirmed[\"ratio_Fra\"] = ratio_day(confirmed[\"Total_Fra\"])"
   ]
  },
  {
   "cell_type": "code",
   "execution_count": 22,
   "metadata": {},
   "outputs": [],
   "source": [
    "confirmed[\"ratio_diff_Fra\"] = substract(confirmed[\"ratio_Fra\"])"
   ]
  },
  {
   "cell_type": "markdown",
   "metadata": {},
   "source": [
    "## USA"
   ]
  },
  {
   "cell_type": "code",
   "execution_count": 23,
   "metadata": {},
   "outputs": [],
   "source": [
    "confirmed[\"Total_US\"] = data.loc[:, \"US\"].sum(axis=1)"
   ]
  },
  {
   "cell_type": "code",
   "execution_count": 24,
   "metadata": {},
   "outputs": [],
   "source": [
    "confirmed[\"ratio_US\"] = ratio_day(confirmed[\"Total_US\"])"
   ]
  },
  {
   "cell_type": "code",
   "execution_count": 25,
   "metadata": {},
   "outputs": [],
   "source": [
    "confirmed[\"ratio_diff_US\"] = substract(confirmed[\"ratio_US\"])"
   ]
  },
  {
   "cell_type": "markdown",
   "metadata": {},
   "source": [
    "## Tables"
   ]
  },
  {
   "cell_type": "code",
   "execution_count": 26,
   "metadata": {},
   "outputs": [
    {
     "data": {
      "text/html": [
       "<div>\n",
       "<style scoped>\n",
       "    .dataframe tbody tr th:only-of-type {\n",
       "        vertical-align: middle;\n",
       "    }\n",
       "\n",
       "    .dataframe tbody tr th {\n",
       "        vertical-align: top;\n",
       "    }\n",
       "\n",
       "    .dataframe thead th {\n",
       "        text-align: right;\n",
       "    }\n",
       "</style>\n",
       "<table border=\"1\" class=\"dataframe\">\n",
       "  <thead>\n",
       "    <tr style=\"text-align: right;\">\n",
       "      <th></th>\n",
       "      <th>Total</th>\n",
       "      <th>Total_wo_China</th>\n",
       "      <th>Total_Can</th>\n",
       "      <th>Total_Qc</th>\n",
       "      <th>Total_Fra</th>\n",
       "      <th>Total_US</th>\n",
       "    </tr>\n",
       "  </thead>\n",
       "  <tbody>\n",
       "    <tr>\n",
       "      <th>2020-04-24</th>\n",
       "      <td>2811603</td>\n",
       "      <td>2727704</td>\n",
       "      <td>44919</td>\n",
       "      <td>22616</td>\n",
       "      <td>158636</td>\n",
       "      <td>905358</td>\n",
       "    </tr>\n",
       "    <tr>\n",
       "      <th>2020-04-25</th>\n",
       "      <td>2897624</td>\n",
       "      <td>2813715</td>\n",
       "      <td>46371</td>\n",
       "      <td>23267</td>\n",
       "      <td>160292</td>\n",
       "      <td>938154</td>\n",
       "    </tr>\n",
       "    <tr>\n",
       "      <th>2020-04-26</th>\n",
       "      <td>2972363</td>\n",
       "      <td>2888451</td>\n",
       "      <td>48033</td>\n",
       "      <td>24109</td>\n",
       "      <td>160847</td>\n",
       "      <td>965785</td>\n",
       "    </tr>\n",
       "    <tr>\n",
       "      <th>2020-04-27</th>\n",
       "      <td>3041764</td>\n",
       "      <td>2957846</td>\n",
       "      <td>49616</td>\n",
       "      <td>24983</td>\n",
       "      <td>164589</td>\n",
       "      <td>988197</td>\n",
       "    </tr>\n",
       "    <tr>\n",
       "      <th>2020-04-28</th>\n",
       "      <td>3116398</td>\n",
       "      <td>3032458</td>\n",
       "      <td>51150</td>\n",
       "      <td>25761</td>\n",
       "      <td>167605</td>\n",
       "      <td>1012582</td>\n",
       "    </tr>\n",
       "  </tbody>\n",
       "</table>\n",
       "</div>"
      ],
      "text/plain": [
       "              Total  Total_wo_China  Total_Can  Total_Qc  Total_Fra  Total_US\n",
       "2020-04-24  2811603         2727704      44919     22616     158636    905358\n",
       "2020-04-25  2897624         2813715      46371     23267     160292    938154\n",
       "2020-04-26  2972363         2888451      48033     24109     160847    965785\n",
       "2020-04-27  3041764         2957846      49616     24983     164589    988197\n",
       "2020-04-28  3116398         3032458      51150     25761     167605   1012582"
      ]
     },
     "execution_count": 26,
     "metadata": {},
     "output_type": "execute_result"
    }
   ],
   "source": [
    "confirmed[[\"Total\", \"Total_wo_China\", \"Total_Can\", \"Total_Qc\", \"Total_Fra\", \"Total_US\"]].tail()"
   ]
  },
  {
   "cell_type": "code",
   "execution_count": 27,
   "metadata": {},
   "outputs": [
    {
     "data": {
      "text/html": [
       "<div>\n",
       "<style scoped>\n",
       "    .dataframe tbody tr th:only-of-type {\n",
       "        vertical-align: middle;\n",
       "    }\n",
       "\n",
       "    .dataframe tbody tr th {\n",
       "        vertical-align: top;\n",
       "    }\n",
       "\n",
       "    .dataframe thead th {\n",
       "        text-align: right;\n",
       "    }\n",
       "</style>\n",
       "<table border=\"1\" class=\"dataframe\">\n",
       "  <thead>\n",
       "    <tr style=\"text-align: right;\">\n",
       "      <th></th>\n",
       "      <th>ratio_tot</th>\n",
       "      <th>ratio_wo_China</th>\n",
       "      <th>ratio_Can</th>\n",
       "      <th>ratio_Qc</th>\n",
       "      <th>ratio_Fra</th>\n",
       "      <th>ratio_US</th>\n",
       "    </tr>\n",
       "  </thead>\n",
       "  <tbody>\n",
       "    <tr>\n",
       "      <th>2020-04-24</th>\n",
       "      <td>1.038</td>\n",
       "      <td>1.040</td>\n",
       "      <td>1.037</td>\n",
       "      <td>1.036</td>\n",
       "      <td>1.010</td>\n",
       "      <td>1.042</td>\n",
       "    </tr>\n",
       "    <tr>\n",
       "      <th>2020-04-25</th>\n",
       "      <td>1.031</td>\n",
       "      <td>1.032</td>\n",
       "      <td>1.032</td>\n",
       "      <td>1.029</td>\n",
       "      <td>1.010</td>\n",
       "      <td>1.036</td>\n",
       "    </tr>\n",
       "    <tr>\n",
       "      <th>2020-04-26</th>\n",
       "      <td>1.026</td>\n",
       "      <td>1.027</td>\n",
       "      <td>1.036</td>\n",
       "      <td>1.036</td>\n",
       "      <td>1.003</td>\n",
       "      <td>1.029</td>\n",
       "    </tr>\n",
       "    <tr>\n",
       "      <th>2020-04-27</th>\n",
       "      <td>1.023</td>\n",
       "      <td>1.024</td>\n",
       "      <td>1.033</td>\n",
       "      <td>1.036</td>\n",
       "      <td>1.023</td>\n",
       "      <td>1.023</td>\n",
       "    </tr>\n",
       "    <tr>\n",
       "      <th>2020-04-28</th>\n",
       "      <td>1.025</td>\n",
       "      <td>1.025</td>\n",
       "      <td>1.031</td>\n",
       "      <td>1.031</td>\n",
       "      <td>1.018</td>\n",
       "      <td>1.025</td>\n",
       "    </tr>\n",
       "  </tbody>\n",
       "</table>\n",
       "</div>"
      ],
      "text/plain": [
       "            ratio_tot  ratio_wo_China  ratio_Can  ratio_Qc  ratio_Fra  \\\n",
       "2020-04-24      1.038           1.040      1.037     1.036      1.010   \n",
       "2020-04-25      1.031           1.032      1.032     1.029      1.010   \n",
       "2020-04-26      1.026           1.027      1.036     1.036      1.003   \n",
       "2020-04-27      1.023           1.024      1.033     1.036      1.023   \n",
       "2020-04-28      1.025           1.025      1.031     1.031      1.018   \n",
       "\n",
       "            ratio_US  \n",
       "2020-04-24     1.042  \n",
       "2020-04-25     1.036  \n",
       "2020-04-26     1.029  \n",
       "2020-04-27     1.023  \n",
       "2020-04-28     1.025  "
      ]
     },
     "execution_count": 27,
     "metadata": {},
     "output_type": "execute_result"
    }
   ],
   "source": [
    "confirmed[[\"ratio_tot\", \"ratio_wo_China\", \"ratio_Can\", \"ratio_Qc\", \"ratio_Fra\", \"ratio_US\"]].tail()"
   ]
  },
  {
   "cell_type": "code",
   "execution_count": 28,
   "metadata": {},
   "outputs": [
    {
     "data": {
      "text/html": [
       "<div>\n",
       "<style scoped>\n",
       "    .dataframe tbody tr th:only-of-type {\n",
       "        vertical-align: middle;\n",
       "    }\n",
       "\n",
       "    .dataframe tbody tr th {\n",
       "        vertical-align: top;\n",
       "    }\n",
       "\n",
       "    .dataframe thead th {\n",
       "        text-align: right;\n",
       "    }\n",
       "</style>\n",
       "<table border=\"1\" class=\"dataframe\">\n",
       "  <thead>\n",
       "    <tr style=\"text-align: right;\">\n",
       "      <th></th>\n",
       "      <th>ratio_diff_tot</th>\n",
       "      <th>ratio_diff_wo_China</th>\n",
       "      <th>ratio_diff_Can</th>\n",
       "      <th>ratio_diff_Qc</th>\n",
       "      <th>ratio_diff_Fra</th>\n",
       "      <th>ratio_diff_US</th>\n",
       "    </tr>\n",
       "  </thead>\n",
       "  <tbody>\n",
       "    <tr>\n",
       "      <th>2020-04-24</th>\n",
       "      <td>0.006</td>\n",
       "      <td>0.007</td>\n",
       "      <td>-0.002</td>\n",
       "      <td>-0.006</td>\n",
       "      <td>-0.005</td>\n",
       "      <td>0.008</td>\n",
       "    </tr>\n",
       "    <tr>\n",
       "      <th>2020-04-25</th>\n",
       "      <td>-0.007</td>\n",
       "      <td>-0.008</td>\n",
       "      <td>-0.005</td>\n",
       "      <td>-0.007</td>\n",
       "      <td>0.000</td>\n",
       "      <td>-0.006</td>\n",
       "    </tr>\n",
       "    <tr>\n",
       "      <th>2020-04-26</th>\n",
       "      <td>-0.005</td>\n",
       "      <td>-0.005</td>\n",
       "      <td>0.004</td>\n",
       "      <td>0.007</td>\n",
       "      <td>-0.007</td>\n",
       "      <td>-0.007</td>\n",
       "    </tr>\n",
       "    <tr>\n",
       "      <th>2020-04-27</th>\n",
       "      <td>-0.003</td>\n",
       "      <td>-0.003</td>\n",
       "      <td>-0.003</td>\n",
       "      <td>0.000</td>\n",
       "      <td>0.020</td>\n",
       "      <td>-0.006</td>\n",
       "    </tr>\n",
       "    <tr>\n",
       "      <th>2020-04-28</th>\n",
       "      <td>0.002</td>\n",
       "      <td>0.001</td>\n",
       "      <td>-0.002</td>\n",
       "      <td>-0.005</td>\n",
       "      <td>-0.005</td>\n",
       "      <td>0.002</td>\n",
       "    </tr>\n",
       "  </tbody>\n",
       "</table>\n",
       "</div>"
      ],
      "text/plain": [
       "            ratio_diff_tot  ratio_diff_wo_China  ratio_diff_Can  \\\n",
       "2020-04-24           0.006                0.007          -0.002   \n",
       "2020-04-25          -0.007               -0.008          -0.005   \n",
       "2020-04-26          -0.005               -0.005           0.004   \n",
       "2020-04-27          -0.003               -0.003          -0.003   \n",
       "2020-04-28           0.002                0.001          -0.002   \n",
       "\n",
       "            ratio_diff_Qc  ratio_diff_Fra  ratio_diff_US  \n",
       "2020-04-24         -0.006          -0.005          0.008  \n",
       "2020-04-25         -0.007           0.000         -0.006  \n",
       "2020-04-26          0.007          -0.007         -0.007  \n",
       "2020-04-27          0.000           0.020         -0.006  \n",
       "2020-04-28         -0.005          -0.005          0.002  "
      ]
     },
     "execution_count": 28,
     "metadata": {},
     "output_type": "execute_result"
    }
   ],
   "source": [
    "confirmed[\n",
    "    [\n",
    "        \"ratio_diff_tot\",\n",
    "        \"ratio_diff_wo_China\",\n",
    "        \"ratio_diff_Can\",\n",
    "        \"ratio_diff_Qc\",\n",
    "        \"ratio_diff_Fra\",\n",
    "        \"ratio_diff_US\",\n",
    "    ]\n",
    "].tail()"
   ]
  },
  {
   "cell_type": "markdown",
   "metadata": {},
   "source": [
    "## Plots"
   ]
  },
  {
   "cell_type": "code",
   "execution_count": 29,
   "metadata": {},
   "outputs": [
    {
     "data": {
      "image/png": "[encoded data removed]",
      "text/plain": [
       "<Figure size 432x288 with 1 Axes>"
      ]
     },
     "metadata": {
      "needs_background": "light"
     },
     "output_type": "display_data"
    }
   ],
   "source": [
    "# Ratio\n",
    "ax_ratio = confirmed[\n",
    "    [\"ratio_tot\", \"ratio_wo_China\", \"ratio_Can\", \"ratio_Qc\", \"ratio_Fra\", \"ratio_US\"]\n",
    "].plot()\n",
    "for i, line in enumerate(ax_ratio.get_lines()):\n",
    "    line.set_marker(markers[i])\n",
    "    line.set_linestyle(styles[i])\n",
    "ax_ratio.legend(bbox_to_anchor=(1, 0.75))\n",
    "ax_ratio.set_ylim([0, 3.5]);"
   ]
  },
  {
   "cell_type": "code",
   "execution_count": 30,
   "metadata": {},
   "outputs": [
    {
     "data": {
      "text/plain": [
       "<matplotlib.legend.Legend at 0x116c95898>"
      ]
     },
     "execution_count": 30,
     "metadata": {},
     "output_type": "execute_result"
    },
    {
     "data": {
      "image/png": "[encoded data removed]",
      "text/plain": [
       "<Figure size 432x288 with 1 Axes>"
      ]
     },
     "metadata": {
      "needs_background": "light"
     },
     "output_type": "display_data"
    }
   ],
   "source": [
    "# Ratio diff\n",
    "ax_ratio = confirmed[\n",
    "    [\n",
    "        \"ratio_diff_tot\",\n",
    "        \"ratio_diff_wo_China\",\n",
    "        \"ratio_diff_Can\",\n",
    "        \"ratio_diff_Qc\",\n",
    "        \"ratio_diff_Fra\",\n",
    "        \"ratio_diff_US\",\n",
    "    ]\n",
    "].plot()\n",
    "for i, line in enumerate(ax_ratio.get_lines()):\n",
    "    line.set_marker(markers[i])\n",
    "    line.set_linestyle(styles[i])\n",
    "ax_ratio.legend(bbox_to_anchor=(1, 0.75))"
   ]
  },
  {
   "cell_type": "code",
   "execution_count": 31,
   "metadata": {},
   "outputs": [
    {
     "data": {
      "image/png": "[encoded data removed]",
      "text/plain": [
       "<Figure size 432x288 with 2 Axes>"
      ]
     },
     "metadata": {
      "needs_background": "light"
     },
     "output_type": "display_data"
    }
   ],
   "source": [
    "# Cases\n",
    "fig, ax_total = plt.subplots(1,1)\n",
    "\n",
    "ax_total.plot(confirmed[\n",
    "    [\"Total\", \"Total_wo_China\"]\n",
    "])\n",
    "ax2 = ax_total.twinx()\n",
    "ax2.plot(confirmed[\n",
    "    [\"Total_Can\", \"Total_Qc\", \"Total_Fra\"]\n",
    "])\n",
    "for i, line in enumerate(ax_total.get_lines()):\n",
    "    line.set_marker(markers[i])\n",
    "for j, line in enumerate(ax2.get_lines()):\n",
    "    line.set_marker(markers[-j])\n",
    "    line.set_color(graph_colors[j+2])\n",
    "    \n",
    "ax_total.legend([\"Total\", \"Total_wo_China\"])\n",
    "ax2.legend([\"Total_Can\", \"Total_Qc\", \"Total_Fra\"], bbox_to_anchor=(0.85, 1));\n",
    "\n",
    "plt.gcf().axes[0].xaxis.set_major_formatter(formatter_week)"
   ]
  },
  {
   "cell_type": "code",
   "execution_count": null,
   "metadata": {},
   "outputs": [],
   "source": []
  }
 ],
 "metadata": {
  "kernelspec": {
   "display_name": "Python 3",
   "language": "python",
   "name": "python3"
  },
  "language_info": {
   "codemirror_mode": {
    "name": "ipython",
    "version": 3
   },
   "file_extension": ".py",
   "mimetype": "text/x-python",
   "name": "python",
   "nbconvert_exporter": "python",
   "pygments_lexer": "ipython3",
   "version": "3.6.10"
  }
 },
 "nbformat": 4,
 "nbformat_minor": 4
}
